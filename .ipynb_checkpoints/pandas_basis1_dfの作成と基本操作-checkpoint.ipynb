{
 "cells": [
  {
   "cell_type": "code",
   "execution_count": null,
   "metadata": {},
   "outputs": [],
   "source": [
    "import numpy as np\n",
    "from sklearn import datasets\n",
    "\n",
    "import pandas as pd"
   ]
  },
  {
   "cell_type": "markdown",
   "metadata": {},
   "source": [
    "## ライブラリの解説\n",
    "### scikit-learnとは\n",
    "\n",
    "scikit-learn (sklearn)とは、Pythonの機械学習ライブラリのde facto standardだと言える有名なライブラリです。\n",
    "\n",
    "このライブラリには、有名な機械学習手法を実装したクラスだけでなく、データをダウンロードして読み込む関数や、データの前処理を行う関数などが含まれています。\n",
    "\n",
    "\n",
    "### pandasとは\n",
    "\n",
    "pandasはデータ解析・機械学習のためのデータ形式を提供するライブラリです。\n",
    "\n",
    "特に使うのはDataFrameです。  \n",
    "DataFrameは行列を扱うクラスで、DataFrameを使えばExcelのSpreadsheetのように見やすいデータ解析ができます。\n",
    "\n",
    "## データの読み込み\n",
    "### sklearnからデータを読み込む\n",
    "\n",
    "sklearnのデータ読み込みモジュールはdatasetsという名前です。\n",
    "\n",
    "このモジュールの中にはload_\\*という関数がいくつか用意されていて、これらの関数を使うとデータセットを読み込むことができます。  \n",
    "また、この関数で得られるデータセットは辞書型になっています。\n",
    "\n",
    "- data: データ本体が入っています。型はnp.arrayです。\n",
    "- target: データのlabel（クラス）が入っています。\n",
    "- target_names: labelの本当の名前が入っています。\n",
    "- feature_names: 特徴の名前が入っています。"
   ]
  },
  {
   "cell_type": "code",
   "execution_count": null,
   "metadata": {},
   "outputs": [],
   "source": [
    "iris = datasets.load_iris()\n",
    "iris"
   ]
  },
  {
   "cell_type": "markdown",
   "metadata": {},
   "source": [
    "### データセットをDataFrameに変形\n",
    "\n",
    "最も簡単にデータフレームを作るには、np.arrayを渡すだけでOKです。"
   ]
  },
  {
   "cell_type": "code",
   "execution_count": null,
   "metadata": {},
   "outputs": [],
   "source": [
    "df = pd.DataFrame(iris.data)\n",
    "df"
   ]
  },
  {
   "cell_type": "markdown",
   "metadata": {},
   "source": [
    "毎回こんなに大きいデータフレームを表示するのは格好が悪いので、先頭5行だけを表示するようにします。"
   ]
  },
  {
   "cell_type": "code",
   "execution_count": null,
   "metadata": {},
   "outputs": [],
   "source": [
    "df.head()"
   ]
  },
  {
   "cell_type": "markdown",
   "metadata": {},
   "source": [
    "df.head()はデフォルトで5行、引数に数字を渡すとその分だけ表示する事ができます。"
   ]
  },
  {
   "cell_type": "code",
   "execution_count": null,
   "metadata": {},
   "outputs": [],
   "source": [
    "df.head(3)"
   ]
  },
  {
   "cell_type": "markdown",
   "metadata": {},
   "source": [
    "ちなみにデータフレームの後ろから取ってくる場合はdf.tail()です。"
   ]
  },
  {
   "cell_type": "code",
   "execution_count": null,
   "metadata": {},
   "outputs": [],
   "source": [
    "df.tail()"
   ]
  },
  {
   "cell_type": "markdown",
   "metadata": {},
   "source": [
    "では、データフレームらしい使い方をしていきましょう。\n",
    "\n",
    "まずは、特徴がデフォルト機能により勝手にナンバリングされています。  \n",
    "これを特徴の名前で置き換えましょう。"
   ]
  },
  {
   "cell_type": "code",
   "execution_count": null,
   "metadata": {},
   "outputs": [],
   "source": [
    "df.columns = iris.feature_names\n",
    "\n",
    "df.head()"
   ]
  },
  {
   "cell_type": "markdown",
   "metadata": {},
   "source": [
    "どうでしょうか。よりわかりやすい表になりましたね。  \n",
    "\n",
    "また、この表にlabelを追加することもできます。"
   ]
  },
  {
   "cell_type": "code",
   "execution_count": null,
   "metadata": {},
   "outputs": [],
   "source": [
    "df2 = df.copy()\n",
    "df2[\"label\"]=iris.target\n",
    "df2.head()"
   ]
  },
  {
   "cell_type": "markdown",
   "metadata": {},
   "source": [
    "この表のlabelが数字になっているのは、少しさびしい感じがします。  \n",
    "数字が実際に表しているlabelの名前を代入してみましょう。"
   ]
  },
  {
   "cell_type": "code",
   "execution_count": null,
   "metadata": {},
   "outputs": [],
   "source": [
    "df2[\"label\"] = [iris.target_names[i] for i in iris.target]\n",
    "df2.head()"
   ]
  },
  {
   "cell_type": "markdown",
   "metadata": {},
   "source": [
    "ここで使った\n",
    "```python\n",
    "[iris.target_names[i] for i in iris.target]\n",
    "```\n",
    "\n",
    "という記述。\n",
    "\n",
    "これはリスト内包表記です。  \n",
    "リストの中でfor文を書いてリストの要素を生成します。  \n",
    "普通のfor文の書き方とは違い、forの前に普通for文内で作る要素を書きます。"
   ]
  },
  {
   "cell_type": "markdown",
   "metadata": {},
   "source": [
    "## データの可視化\n",
    "\n",
    "### seabornで可視化"
   ]
  },
  {
   "cell_type": "markdown",
   "metadata": {},
   "source": [
    "pandasのDataFrameは様々な別のライブラリと協調できます。  \n",
    "データフレームを引数に取る可視化ライブラリ、seabornを使ってみましょう。"
   ]
  },
  {
   "cell_type": "code",
   "execution_count": null,
   "metadata": {},
   "outputs": [],
   "source": [
    "import seaborn as sns"
   ]
  },
  {
   "cell_type": "markdown",
   "metadata": {},
   "source": [
    "seabornはsnsというあだ名にするのが慣例です。\n",
    "\n",
    "sns.pairplotを使えば、特徴を二つずつセットにして、散布図が作れます。  \n",
    "hueはクラスを指定します。  \n",
    "クラスに当たる列の名前を渡しましょう。"
   ]
  },
  {
   "cell_type": "code",
   "execution_count": null,
   "metadata": {},
   "outputs": [],
   "source": [
    "sns.pairplot(df2, hue=\"label\")"
   ]
  },
  {
   "cell_type": "markdown",
   "metadata": {},
   "source": [
    "### df.plotによる可視化\n",
    "\n",
    "df.plotメソッドで簡単にプロットができます。\n",
    "\n",
    "seabornは統計学に特化した可視化ツールですが、plotメソッドでも一般的な可視化ができます。\n",
    "\n",
    "kind引数に作りたいグラフの名前を入れてあげればOKです。  \n",
    "ちなみに引数がない場合は曲線になります。  "
   ]
  },
  {
   "cell_type": "code",
   "execution_count": null,
   "metadata": {},
   "outputs": [],
   "source": [
    "df2.plot(\n",
    "    kind=\"bar\",      # グラフの種類\n",
    "    subplots=True,   # subplotsをTrueにすると、列ごとに別のグラフを作れます。この引数を書かなければ一つにまとめられます。\n",
    "    figsize=(10,10)  # figsizeでプロットサイズを指定できます。この引数を書かなくても適当なサイズで表示されます。\n",
    ")"
   ]
  },
  {
   "cell_type": "markdown",
   "metadata": {},
   "source": [
    "## 統計量を計算\n",
    "\n",
    "### 要約統計量"
   ]
  },
  {
   "cell_type": "code",
   "execution_count": null,
   "metadata": {},
   "outputs": [],
   "source": [
    "df2.describe()"
   ]
  },
  {
   "cell_type": "markdown",
   "metadata": {},
   "source": [
    "### 相関行列"
   ]
  },
  {
   "cell_type": "code",
   "execution_count": null,
   "metadata": {},
   "outputs": [],
   "source": [
    "df2.corr()"
   ]
  },
  {
   "cell_type": "code",
   "execution_count": null,
   "metadata": {},
   "outputs": [],
   "source": [
    "df2.corr().plot(kind=\"bar\")"
   ]
  },
  {
   "cell_type": "markdown",
   "metadata": {},
   "source": [
    "### 共分散行列"
   ]
  },
  {
   "cell_type": "code",
   "execution_count": null,
   "metadata": {},
   "outputs": [],
   "source": [
    "df2.cov()"
   ]
  },
  {
   "cell_type": "code",
   "execution_count": null,
   "metadata": {},
   "outputs": [],
   "source": [
    "df2.cov().plot(kind=\"bar\")"
   ]
  },
  {
   "cell_type": "code",
   "execution_count": null,
   "metadata": {},
   "outputs": [],
   "source": []
  }
 ],
 "metadata": {
  "kernelspec": {
   "display_name": "Python 3",
   "language": "python",
   "name": "python3"
  },
  "language_info": {
   "codemirror_mode": {
    "name": "ipython",
    "version": 3
   },
   "file_extension": ".py",
   "mimetype": "text/x-python",
   "name": "python",
   "nbconvert_exporter": "python",
   "pygments_lexer": "ipython3",
   "version": "3.6.5"
  }
 },
 "nbformat": 4,
 "nbformat_minor": 2
}
